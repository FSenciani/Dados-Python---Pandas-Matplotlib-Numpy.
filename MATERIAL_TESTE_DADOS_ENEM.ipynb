{
  "nbformat": 4,
  "nbformat_minor": 0,
  "metadata": {
    "colab": {
      "provenance": [],
      "collapsed_sections": [
        "-rORiMqEFllE",
        "8FqLUtP7LBvW",
        "mtCYz-ZaLK5p",
        "zW7lsWMYN7EF",
        "KydbR8qbveQj",
        "O9VywvOvw2Zo",
        "r4-lygIi0yhG",
        "xE0miR_PAdc1",
        "icDPW13-4bvU",
        "e6n1wjt16YOl",
        "-HpNDQJb7e4B",
        "fqdTjJ2l8SfC"
      ],
      "authorship_tag": "ABX9TyPLiJyaoxqBfYBORS8gkFxU",
      "include_colab_link": true
    },
    "kernelspec": {
      "name": "python3",
      "display_name": "Python 3"
    },
    "language_info": {
      "name": "python"
    }
  },
  "cells": [
    {
      "cell_type": "markdown",
      "metadata": {
        "id": "view-in-github",
        "colab_type": "text"
      },
      "source": [
        "<a href=\"https://colab.research.google.com/github/FSenciani/Dados-Python---Pandas-Matplotlib-Numpy./blob/main/MATERIAL_TESTE_DADOS_ENEM.ipynb\" target=\"_parent\"><img src=\"https://colab.research.google.com/assets/colab-badge.svg\" alt=\"Open In Colab\"/></a>"
      ]
    },
    {
      "cell_type": "code",
      "execution_count": null,
      "metadata": {
        "id": "nKOrkm3U5LvE",
        "colab": {
          "base_uri": "https://localhost:8080/"
        },
        "outputId": "15b0764e-118f-471d-d98f-ee0f4ee233ba"
      },
      "outputs": [
        {
          "output_type": "stream",
          "name": "stdout",
          "text": [
            "Requirement already satisfied: pandas in /usr/local/lib/python3.10/dist-packages (1.5.3)\n",
            "Requirement already satisfied: matplotlib in /usr/local/lib/python3.10/dist-packages (3.7.1)\n",
            "Requirement already satisfied: numpy in /usr/local/lib/python3.10/dist-packages (1.25.2)\n",
            "Requirement already satisfied: seaborn in /usr/local/lib/python3.10/dist-packages (0.13.1)\n",
            "Requirement already satisfied: python-dateutil>=2.8.1 in /usr/local/lib/python3.10/dist-packages (from pandas) (2.8.2)\n",
            "Requirement already satisfied: pytz>=2020.1 in /usr/local/lib/python3.10/dist-packages (from pandas) (2023.4)\n",
            "Requirement already satisfied: contourpy>=1.0.1 in /usr/local/lib/python3.10/dist-packages (from matplotlib) (1.2.0)\n",
            "Requirement already satisfied: cycler>=0.10 in /usr/local/lib/python3.10/dist-packages (from matplotlib) (0.12.1)\n",
            "Requirement already satisfied: fonttools>=4.22.0 in /usr/local/lib/python3.10/dist-packages (from matplotlib) (4.49.0)\n",
            "Requirement already satisfied: kiwisolver>=1.0.1 in /usr/local/lib/python3.10/dist-packages (from matplotlib) (1.4.5)\n",
            "Requirement already satisfied: packaging>=20.0 in /usr/local/lib/python3.10/dist-packages (from matplotlib) (23.2)\n",
            "Requirement already satisfied: pillow>=6.2.0 in /usr/local/lib/python3.10/dist-packages (from matplotlib) (9.4.0)\n",
            "Requirement already satisfied: pyparsing>=2.3.1 in /usr/local/lib/python3.10/dist-packages (from matplotlib) (3.1.1)\n",
            "Requirement already satisfied: six>=1.5 in /usr/local/lib/python3.10/dist-packages (from python-dateutil>=2.8.1->pandas) (1.16.0)\n"
          ]
        }
      ],
      "source": [
        "!pip3 install pandas matplotlib numpy seaborn"
      ]
    },
    {
      "cell_type": "code",
      "source": [
        "import pandas as pd\n",
        "import numpy as np\n",
        "import polars as pl\n",
        "import matplotlib.pyplot as plt"
      ],
      "metadata": {
        "id": "qXfq8Oqk6PLb"
      },
      "execution_count": null,
      "outputs": []
    },
    {
      "cell_type": "markdown",
      "source": [
        "# Load Data\n"
      ],
      "metadata": {
        "id": "-rORiMqEFllE"
      }
    },
    {
      "cell_type": "code",
      "source": [
        "pd.set_option('display.max_columns', 100)"
      ],
      "metadata": {
        "id": "6vPQJ_KU7UJC"
      },
      "execution_count": null,
      "outputs": []
    },
    {
      "cell_type": "code",
      "source": [
        "df = pd.read_csv('dados_enem_2021_BA.csv')"
      ],
      "metadata": {
        "id": "lcvrXG867Nhi",
        "colab": {
          "base_uri": "https://localhost:8080/",
          "height": 287
        },
        "outputId": "b1a88e83-2b2d-45e6-f807-d04045e8a3eb"
      },
      "execution_count": null,
      "outputs": [
        {
          "output_type": "error",
          "ename": "FileNotFoundError",
          "evalue": "[Errno 2] No such file or directory: 'dados_enem_2021_BA.csv'",
          "traceback": [
            "\u001b[0;31m---------------------------------------------------------------------------\u001b[0m",
            "\u001b[0;31mFileNotFoundError\u001b[0m                         Traceback (most recent call last)",
            "\u001b[0;32m<ipython-input-6-5cfd31e3d76d>\u001b[0m in \u001b[0;36m<cell line: 1>\u001b[0;34m()\u001b[0m\n\u001b[0;32m----> 1\u001b[0;31m \u001b[0mdf\u001b[0m \u001b[0;34m=\u001b[0m \u001b[0mpd\u001b[0m\u001b[0;34m.\u001b[0m\u001b[0mread_csv\u001b[0m\u001b[0;34m(\u001b[0m\u001b[0;34m'dados_enem_2021_BA.csv'\u001b[0m\u001b[0;34m)\u001b[0m\u001b[0;34m\u001b[0m\u001b[0;34m\u001b[0m\u001b[0m\n\u001b[0m",
            "\u001b[0;32m/usr/local/lib/python3.10/dist-packages/pandas/util/_decorators.py\u001b[0m in \u001b[0;36mwrapper\u001b[0;34m(*args, **kwargs)\u001b[0m\n\u001b[1;32m    209\u001b[0m                 \u001b[0;32melse\u001b[0m\u001b[0;34m:\u001b[0m\u001b[0;34m\u001b[0m\u001b[0;34m\u001b[0m\u001b[0m\n\u001b[1;32m    210\u001b[0m                     \u001b[0mkwargs\u001b[0m\u001b[0;34m[\u001b[0m\u001b[0mnew_arg_name\u001b[0m\u001b[0;34m]\u001b[0m \u001b[0;34m=\u001b[0m \u001b[0mnew_arg_value\u001b[0m\u001b[0;34m\u001b[0m\u001b[0;34m\u001b[0m\u001b[0m\n\u001b[0;32m--> 211\u001b[0;31m             \u001b[0;32mreturn\u001b[0m \u001b[0mfunc\u001b[0m\u001b[0;34m(\u001b[0m\u001b[0;34m*\u001b[0m\u001b[0margs\u001b[0m\u001b[0;34m,\u001b[0m \u001b[0;34m**\u001b[0m\u001b[0mkwargs\u001b[0m\u001b[0;34m)\u001b[0m\u001b[0;34m\u001b[0m\u001b[0;34m\u001b[0m\u001b[0m\n\u001b[0m\u001b[1;32m    212\u001b[0m \u001b[0;34m\u001b[0m\u001b[0m\n\u001b[1;32m    213\u001b[0m         \u001b[0;32mreturn\u001b[0m \u001b[0mcast\u001b[0m\u001b[0;34m(\u001b[0m\u001b[0mF\u001b[0m\u001b[0;34m,\u001b[0m \u001b[0mwrapper\u001b[0m\u001b[0;34m)\u001b[0m\u001b[0;34m\u001b[0m\u001b[0;34m\u001b[0m\u001b[0m\n",
            "\u001b[0;32m/usr/local/lib/python3.10/dist-packages/pandas/util/_decorators.py\u001b[0m in \u001b[0;36mwrapper\u001b[0;34m(*args, **kwargs)\u001b[0m\n\u001b[1;32m    329\u001b[0m                     \u001b[0mstacklevel\u001b[0m\u001b[0;34m=\u001b[0m\u001b[0mfind_stack_level\u001b[0m\u001b[0;34m(\u001b[0m\u001b[0;34m)\u001b[0m\u001b[0;34m,\u001b[0m\u001b[0;34m\u001b[0m\u001b[0;34m\u001b[0m\u001b[0m\n\u001b[1;32m    330\u001b[0m                 )\n\u001b[0;32m--> 331\u001b[0;31m             \u001b[0;32mreturn\u001b[0m \u001b[0mfunc\u001b[0m\u001b[0;34m(\u001b[0m\u001b[0;34m*\u001b[0m\u001b[0margs\u001b[0m\u001b[0;34m,\u001b[0m \u001b[0;34m**\u001b[0m\u001b[0mkwargs\u001b[0m\u001b[0;34m)\u001b[0m\u001b[0;34m\u001b[0m\u001b[0;34m\u001b[0m\u001b[0m\n\u001b[0m\u001b[1;32m    332\u001b[0m \u001b[0;34m\u001b[0m\u001b[0m\n\u001b[1;32m    333\u001b[0m         \u001b[0;31m# error: \"Callable[[VarArg(Any), KwArg(Any)], Any]\" has no\u001b[0m\u001b[0;34m\u001b[0m\u001b[0;34m\u001b[0m\u001b[0m\n",
            "\u001b[0;32m/usr/local/lib/python3.10/dist-packages/pandas/io/parsers/readers.py\u001b[0m in \u001b[0;36mread_csv\u001b[0;34m(filepath_or_buffer, sep, delimiter, header, names, index_col, usecols, squeeze, prefix, mangle_dupe_cols, dtype, engine, converters, true_values, false_values, skipinitialspace, skiprows, skipfooter, nrows, na_values, keep_default_na, na_filter, verbose, skip_blank_lines, parse_dates, infer_datetime_format, keep_date_col, date_parser, dayfirst, cache_dates, iterator, chunksize, compression, thousands, decimal, lineterminator, quotechar, quoting, doublequote, escapechar, comment, encoding, encoding_errors, dialect, error_bad_lines, warn_bad_lines, on_bad_lines, delim_whitespace, low_memory, memory_map, float_precision, storage_options)\u001b[0m\n\u001b[1;32m    948\u001b[0m     \u001b[0mkwds\u001b[0m\u001b[0;34m.\u001b[0m\u001b[0mupdate\u001b[0m\u001b[0;34m(\u001b[0m\u001b[0mkwds_defaults\u001b[0m\u001b[0;34m)\u001b[0m\u001b[0;34m\u001b[0m\u001b[0;34m\u001b[0m\u001b[0m\n\u001b[1;32m    949\u001b[0m \u001b[0;34m\u001b[0m\u001b[0m\n\u001b[0;32m--> 950\u001b[0;31m     \u001b[0;32mreturn\u001b[0m \u001b[0m_read\u001b[0m\u001b[0;34m(\u001b[0m\u001b[0mfilepath_or_buffer\u001b[0m\u001b[0;34m,\u001b[0m \u001b[0mkwds\u001b[0m\u001b[0;34m)\u001b[0m\u001b[0;34m\u001b[0m\u001b[0;34m\u001b[0m\u001b[0m\n\u001b[0m\u001b[1;32m    951\u001b[0m \u001b[0;34m\u001b[0m\u001b[0m\n\u001b[1;32m    952\u001b[0m \u001b[0;34m\u001b[0m\u001b[0m\n",
            "\u001b[0;32m/usr/local/lib/python3.10/dist-packages/pandas/io/parsers/readers.py\u001b[0m in \u001b[0;36m_read\u001b[0;34m(filepath_or_buffer, kwds)\u001b[0m\n\u001b[1;32m    603\u001b[0m \u001b[0;34m\u001b[0m\u001b[0m\n\u001b[1;32m    604\u001b[0m     \u001b[0;31m# Create the parser.\u001b[0m\u001b[0;34m\u001b[0m\u001b[0;34m\u001b[0m\u001b[0m\n\u001b[0;32m--> 605\u001b[0;31m     \u001b[0mparser\u001b[0m \u001b[0;34m=\u001b[0m \u001b[0mTextFileReader\u001b[0m\u001b[0;34m(\u001b[0m\u001b[0mfilepath_or_buffer\u001b[0m\u001b[0;34m,\u001b[0m \u001b[0;34m**\u001b[0m\u001b[0mkwds\u001b[0m\u001b[0;34m)\u001b[0m\u001b[0;34m\u001b[0m\u001b[0;34m\u001b[0m\u001b[0m\n\u001b[0m\u001b[1;32m    606\u001b[0m \u001b[0;34m\u001b[0m\u001b[0m\n\u001b[1;32m    607\u001b[0m     \u001b[0;32mif\u001b[0m \u001b[0mchunksize\u001b[0m \u001b[0;32mor\u001b[0m \u001b[0miterator\u001b[0m\u001b[0;34m:\u001b[0m\u001b[0;34m\u001b[0m\u001b[0;34m\u001b[0m\u001b[0m\n",
            "\u001b[0;32m/usr/local/lib/python3.10/dist-packages/pandas/io/parsers/readers.py\u001b[0m in \u001b[0;36m__init__\u001b[0;34m(self, f, engine, **kwds)\u001b[0m\n\u001b[1;32m   1440\u001b[0m \u001b[0;34m\u001b[0m\u001b[0m\n\u001b[1;32m   1441\u001b[0m         \u001b[0mself\u001b[0m\u001b[0;34m.\u001b[0m\u001b[0mhandles\u001b[0m\u001b[0;34m:\u001b[0m \u001b[0mIOHandles\u001b[0m \u001b[0;34m|\u001b[0m \u001b[0;32mNone\u001b[0m \u001b[0;34m=\u001b[0m \u001b[0;32mNone\u001b[0m\u001b[0;34m\u001b[0m\u001b[0;34m\u001b[0m\u001b[0m\n\u001b[0;32m-> 1442\u001b[0;31m         \u001b[0mself\u001b[0m\u001b[0;34m.\u001b[0m\u001b[0m_engine\u001b[0m \u001b[0;34m=\u001b[0m \u001b[0mself\u001b[0m\u001b[0;34m.\u001b[0m\u001b[0m_make_engine\u001b[0m\u001b[0;34m(\u001b[0m\u001b[0mf\u001b[0m\u001b[0;34m,\u001b[0m \u001b[0mself\u001b[0m\u001b[0;34m.\u001b[0m\u001b[0mengine\u001b[0m\u001b[0;34m)\u001b[0m\u001b[0;34m\u001b[0m\u001b[0;34m\u001b[0m\u001b[0m\n\u001b[0m\u001b[1;32m   1443\u001b[0m \u001b[0;34m\u001b[0m\u001b[0m\n\u001b[1;32m   1444\u001b[0m     \u001b[0;32mdef\u001b[0m \u001b[0mclose\u001b[0m\u001b[0;34m(\u001b[0m\u001b[0mself\u001b[0m\u001b[0;34m)\u001b[0m \u001b[0;34m->\u001b[0m \u001b[0;32mNone\u001b[0m\u001b[0;34m:\u001b[0m\u001b[0;34m\u001b[0m\u001b[0;34m\u001b[0m\u001b[0m\n",
            "\u001b[0;32m/usr/local/lib/python3.10/dist-packages/pandas/io/parsers/readers.py\u001b[0m in \u001b[0;36m_make_engine\u001b[0;34m(self, f, engine)\u001b[0m\n\u001b[1;32m   1733\u001b[0m                 \u001b[0;32mif\u001b[0m \u001b[0;34m\"b\"\u001b[0m \u001b[0;32mnot\u001b[0m \u001b[0;32min\u001b[0m \u001b[0mmode\u001b[0m\u001b[0;34m:\u001b[0m\u001b[0;34m\u001b[0m\u001b[0;34m\u001b[0m\u001b[0m\n\u001b[1;32m   1734\u001b[0m                     \u001b[0mmode\u001b[0m \u001b[0;34m+=\u001b[0m \u001b[0;34m\"b\"\u001b[0m\u001b[0;34m\u001b[0m\u001b[0;34m\u001b[0m\u001b[0m\n\u001b[0;32m-> 1735\u001b[0;31m             self.handles = get_handle(\n\u001b[0m\u001b[1;32m   1736\u001b[0m                 \u001b[0mf\u001b[0m\u001b[0;34m,\u001b[0m\u001b[0;34m\u001b[0m\u001b[0;34m\u001b[0m\u001b[0m\n\u001b[1;32m   1737\u001b[0m                 \u001b[0mmode\u001b[0m\u001b[0;34m,\u001b[0m\u001b[0;34m\u001b[0m\u001b[0;34m\u001b[0m\u001b[0m\n",
            "\u001b[0;32m/usr/local/lib/python3.10/dist-packages/pandas/io/common.py\u001b[0m in \u001b[0;36mget_handle\u001b[0;34m(path_or_buf, mode, encoding, compression, memory_map, is_text, errors, storage_options)\u001b[0m\n\u001b[1;32m    854\u001b[0m         \u001b[0;32mif\u001b[0m \u001b[0mioargs\u001b[0m\u001b[0;34m.\u001b[0m\u001b[0mencoding\u001b[0m \u001b[0;32mand\u001b[0m \u001b[0;34m\"b\"\u001b[0m \u001b[0;32mnot\u001b[0m \u001b[0;32min\u001b[0m \u001b[0mioargs\u001b[0m\u001b[0;34m.\u001b[0m\u001b[0mmode\u001b[0m\u001b[0;34m:\u001b[0m\u001b[0;34m\u001b[0m\u001b[0;34m\u001b[0m\u001b[0m\n\u001b[1;32m    855\u001b[0m             \u001b[0;31m# Encoding\u001b[0m\u001b[0;34m\u001b[0m\u001b[0;34m\u001b[0m\u001b[0m\n\u001b[0;32m--> 856\u001b[0;31m             handle = open(\n\u001b[0m\u001b[1;32m    857\u001b[0m                 \u001b[0mhandle\u001b[0m\u001b[0;34m,\u001b[0m\u001b[0;34m\u001b[0m\u001b[0;34m\u001b[0m\u001b[0m\n\u001b[1;32m    858\u001b[0m                 \u001b[0mioargs\u001b[0m\u001b[0;34m.\u001b[0m\u001b[0mmode\u001b[0m\u001b[0;34m,\u001b[0m\u001b[0;34m\u001b[0m\u001b[0;34m\u001b[0m\u001b[0m\n",
            "\u001b[0;31mFileNotFoundError\u001b[0m: [Errno 2] No such file or directory: 'dados_enem_2021_BA.csv'"
          ]
        }
      ]
    },
    {
      "cell_type": "code",
      "source": [
        "df.shape"
      ],
      "metadata": {
        "id": "cbIcZBue-afk"
      },
      "execution_count": null,
      "outputs": []
    },
    {
      "cell_type": "markdown",
      "source": [
        "No Pandas podemos carregar dados de diferentes formatos. Os principais são :\n",
        "\n",
        "CSV\n",
        "Excel\n",
        "SQL\n",
        "Usando PySpark um formato muito utilizado é o parquet. Veremos este ponto mais adiante.\n",
        "\n",
        "De igual modo podemos escrever os arquivos em diferentes formatos (output).\n",
        "\n",
        "Na prática o formato de dados que iremos trabalhar vai depender muito da origem dos dados, da estrutura da empresa que estaremos trabalhando, etc.\n"
      ],
      "metadata": {
        "id": "FXrzqx2iKqHc"
      }
    },
    {
      "cell_type": "markdown",
      "source": [
        "# Microdados ENEM"
      ],
      "metadata": {
        "id": "8FqLUtP7LBvW"
      }
    },
    {
      "cell_type": "markdown",
      "source": [
        "Grupos de variáveis\n",
        "\n",
        "Dados do participante\n",
        "Dados da escola\n",
        "Dados do local de aplicação da prova\n",
        "Dados da prova objetiva\n",
        "Dados da redação\n",
        "Dados do questionário socioeconômico"
      ],
      "metadata": {
        "id": "PkI2UGLSK42J"
      }
    },
    {
      "cell_type": "markdown",
      "source": [
        "Desafio :Elaborar um gráfico de pareto com os estados e as maiores notas."
      ],
      "metadata": {
        "id": "GxPzB3pGK_BK"
      }
    },
    {
      "cell_type": "markdown",
      "source": [
        "# Inspeção de Dados\n"
      ],
      "metadata": {
        "id": "mtCYz-ZaLK5p"
      }
    },
    {
      "cell_type": "markdown",
      "source": [
        "Hipótese levantadas\n",
        "\n",
        "Padrões espaciais afetam o desempenho escolar?\n",
        "Características municipais afetam o desempenho escolar?\n",
        "Renda familiar pode afetar a nota dos alunos?\n",
        "Há diferença de desempenho entre escolar públicas e privadas?\n",
        "Qual matéria tem maior nota naquela região?"
      ],
      "metadata": {
        "id": "MpIlilr5LQ0a"
      }
    },
    {
      "cell_type": "code",
      "source": [
        "# leitura das 5 primeiras linhas\n",
        "df.head()"
      ],
      "metadata": {
        "id": "ZFHll1PMLXZp"
      },
      "execution_count": null,
      "outputs": []
    },
    {
      "cell_type": "code",
      "source": [
        "df.head(n = 10)"
      ],
      "metadata": {
        "id": "Et-rNWU1LfOt"
      },
      "execution_count": null,
      "outputs": []
    },
    {
      "cell_type": "code",
      "source": [
        "# leitura das 5 últimas linhas\n",
        "df.tail()"
      ],
      "metadata": {
        "id": "QNYhZYi0LjND"
      },
      "execution_count": null,
      "outputs": []
    },
    {
      "cell_type": "code",
      "source": [
        "df.tail(n = 10)"
      ],
      "metadata": {
        "id": "G1tVKXdtLj-_"
      },
      "execution_count": null,
      "outputs": []
    },
    {
      "cell_type": "markdown",
      "source": [
        "Nota: os comandos df.head() e df.tail() são úteis para inspecionar e compreender o dataset."
      ],
      "metadata": {
        "id": "1-UjetepLojQ"
      }
    },
    {
      "cell_type": "code",
      "source": [
        "# quantidade de linhas x quantidade de colunas\n",
        "# o resultado é uma tupla - podemos verificar com a função type()\n",
        "df.shape"
      ],
      "metadata": {
        "id": "TarPEw5RLrO-"
      },
      "execution_count": null,
      "outputs": []
    },
    {
      "cell_type": "code",
      "source": [
        "# Sumário do Dataset\n",
        "# número de valores não nulos, dtype de cada coluna, memory usage\n",
        "df.info()"
      ],
      "metadata": {
        "id": "rmbHseotLuSo"
      },
      "execution_count": null,
      "outputs": []
    },
    {
      "cell_type": "code",
      "source": [
        "# verificar missing (dados ausentes)\n",
        "(df.isna().sum() / df.shape[0] * 100).sort_values(ascending = False)"
      ],
      "metadata": {
        "id": "AK3ZfCAaLxxK"
      },
      "execution_count": null,
      "outputs": []
    },
    {
      "cell_type": "code",
      "source": [
        "# nome das colunas\n",
        "df.columns"
      ],
      "metadata": {
        "id": "ANHHw36rLy98"
      },
      "execution_count": null,
      "outputs": []
    },
    {
      "cell_type": "code",
      "source": [
        "# Sumário estatístico dos dados\n",
        "# 25%: Primeiro Quartil\n",
        "# 50%: Segundo Quartil (Mediana)\n",
        "# 75%: Terceiro Quartil\n",
        "df.describe().transpose()"
      ],
      "metadata": {
        "id": "qTQcBaJIL1LG"
      },
      "execution_count": null,
      "outputs": []
    },
    {
      "cell_type": "code",
      "source": [
        "df.index"
      ],
      "metadata": {
        "id": "L3u_-1BwL3GY"
      },
      "execution_count": null,
      "outputs": []
    },
    {
      "cell_type": "code",
      "source": [
        "# Quantidade de valores únicos por coluna\n",
        "df.nunique().sort_values(ascending = True)"
      ],
      "metadata": {
        "id": "bWpqUwe-Mfuk"
      },
      "execution_count": null,
      "outputs": []
    },
    {
      "cell_type": "code",
      "source": [
        "type(df)"
      ],
      "metadata": {
        "id": "tHDNZEt7Mhkc"
      },
      "execution_count": null,
      "outputs": []
    },
    {
      "cell_type": "code",
      "source": [
        "# seleciona uma coluna\n",
        "df.TP_ESCOLA"
      ],
      "metadata": {
        "id": "gwc_5t7vMjTc"
      },
      "execution_count": null,
      "outputs": []
    },
    {
      "cell_type": "code",
      "source": [
        "# distribuição de frequência\n",
        "df.TP_ESCOLA.value_counts()"
      ],
      "metadata": {
        "id": "y0q7ZzruMmsD"
      },
      "execution_count": null,
      "outputs": []
    },
    {
      "cell_type": "code",
      "source": [
        "# seleciona uma coluna\n",
        "df['TP_ESCOLA']"
      ],
      "metadata": {
        "id": "_y0DjctJMoV8"
      },
      "execution_count": null,
      "outputs": []
    },
    {
      "cell_type": "code",
      "source": [
        "# seleciona uma coluna\n",
        "# .loc[] : seleciona colunas pelo label\n",
        "# sintaxe: df.loc[linhas:colunas]\n",
        "df.loc[:, 'TP_SEXO']"
      ],
      "metadata": {
        "id": "3oT-gpbsMqM8"
      },
      "execution_count": null,
      "outputs": []
    },
    {
      "cell_type": "code",
      "source": [
        "# seleciona múltiplas\n",
        "df[['TP_SEXO', 'TP_ESCOLA']]"
      ],
      "metadata": {
        "id": "BvmBK7_cMrew"
      },
      "execution_count": null,
      "outputs": []
    },
    {
      "cell_type": "code",
      "source": [
        "# seleciona múltiplas colunas com .loc\n",
        "df.loc[:, ['TP_SEXO', 'TP_ESCOLA']]"
      ],
      "metadata": {
        "id": "IeWHpayVNFB3"
      },
      "execution_count": null,
      "outputs": []
    },
    {
      "cell_type": "code",
      "source": [
        "# .iloc[] : seleciona colunas pela posição\n",
        "# sintaxe: df.iloc[linhas:colunas]\n",
        "df.iloc[:, 0]"
      ],
      "metadata": {
        "id": "CHkrWmtmNLh6"
      },
      "execution_count": null,
      "outputs": []
    },
    {
      "cell_type": "code",
      "source": [
        "# exemplo de seleção com .iloc\n",
        "df.iloc[0:5, 0]"
      ],
      "metadata": {
        "id": "p9vtreVgNLye"
      },
      "execution_count": null,
      "outputs": []
    },
    {
      "cell_type": "markdown",
      "source": [
        "Com a função .select_dtypes() podemos selecionar colunas de acordo com seu dtype (int, float, bool, etc.). Em várias situações isso pode ser útil, dentre outras coisas para aplicarmos rotinas específicas de acordo com o dtype ou ainda separar as colunas em qualitativas e quantitivas."
      ],
      "metadata": {
        "id": "n1dccayUNQ8J"
      }
    },
    {
      "cell_type": "code",
      "source": [
        "# seleciona colunas numéricas\n",
        "df.select_dtypes(include = [int, float])"
      ],
      "metadata": {
        "id": "xlQIlpI3NMI8"
      },
      "execution_count": null,
      "outputs": []
    },
    {
      "cell_type": "code",
      "source": [
        "# outra forma de fazer:\n",
        "df.select_dtypes(exclude = object)"
      ],
      "metadata": {
        "id": "nIgs1punNTXA"
      },
      "execution_count": null,
      "outputs": []
    },
    {
      "cell_type": "code",
      "source": [
        "# seleciona colunas str\n",
        "# df.select_dtypes(exclude = [int, float])\n",
        "df.select_dtypes(include = object)"
      ],
      "metadata": {
        "id": "oAlve2PgNU88"
      },
      "execution_count": null,
      "outputs": []
    },
    {
      "cell_type": "code",
      "source": [
        "cat_cols = df.select_dtypes(include = object).columns.tolist()\n",
        "num_cols = df.select_dtypes(include = [int, float]).columns.tolist()"
      ],
      "metadata": {
        "id": "ut-0h74kNXFz"
      },
      "execution_count": null,
      "outputs": []
    },
    {
      "cell_type": "markdown",
      "source": [
        "# Filtro"
      ],
      "metadata": {
        "id": "zW7lsWMYN7EF"
      }
    },
    {
      "cell_type": "code",
      "source": [
        "# alunos de colégio público\n",
        "df.query('TP_ESCOLA == 2').NU_NOTA_MT.mean()"
      ],
      "metadata": {
        "id": "z79ARAgtNYno"
      },
      "execution_count": null,
      "outputs": []
    },
    {
      "cell_type": "code",
      "source": [
        "# alunos de colégio privado\n",
        "df.query('TP_ESCOLA == 3').NU_NOTA_MT.mean()"
      ],
      "metadata": {
        "id": "fIsK8vWTNxwe"
      },
      "execution_count": null,
      "outputs": []
    },
    {
      "cell_type": "code",
      "source": [
        "# alunos de colégio privado\n",
        "df.query('TP_ESCOLA == 3').NU_NOTA_MT.agg([np.mean, np.median])"
      ],
      "metadata": {
        "id": "9OEIfl-lOA3a"
      },
      "execution_count": null,
      "outputs": []
    },
    {
      "cell_type": "code",
      "source": [
        "# alunos de colégio pública\n",
        "df.query('TP_ESCOLA == 2').NU_NOTA_MT.agg([np.mean, np.median])"
      ],
      "metadata": {
        "id": "mqVnsJ7lOCKw"
      },
      "execution_count": null,
      "outputs": []
    },
    {
      "cell_type": "code",
      "source": [
        "# 1 condição\n",
        "df.query('TP_SEXO == \"M\"').sample(5)"
      ],
      "metadata": {
        "id": "VUrkR3d0OCD-"
      },
      "execution_count": null,
      "outputs": []
    },
    {
      "cell_type": "code",
      "source": [
        "# validando a nossa consulta\n",
        "# .unique(): retorna os valores únicos de uma determinada coluna\n",
        "df.query('TP_SEXO == \"M\"')['TP_SEXO'].unique()"
      ],
      "metadata": {
        "id": "a81sf_UaOB7B"
      },
      "execution_count": null,
      "outputs": []
    },
    {
      "cell_type": "markdown",
      "source": [
        "Agora vamos retornar um subset com os alunos do sexo Masculino que sejam treineiros. Neste caso usaremos o operador & (AND)."
      ],
      "metadata": {
        "id": "2s33Pq8cO64K"
      }
    },
    {
      "cell_type": "code",
      "source": [
        "df.query('(TP_SEXO == \"M\") & (IN_TREINEIRO == 1)')"
      ],
      "metadata": {
        "id": "RgR7pU2POBWo"
      },
      "execution_count": null,
      "outputs": []
    },
    {
      "cell_type": "code",
      "source": [
        "df.query(\"(TP_SEXO == 'M') & (IN_TREINEIRO == 1)\").sample(5)"
      ],
      "metadata": {
        "id": "lPad7X9aO-ka"
      },
      "execution_count": null,
      "outputs": []
    },
    {
      "cell_type": "markdown",
      "source": [
        "Se o objetivo fosse retornar os alunos do sexo masculino ou que foram treineiros, poderíamos usar o operador | (OR)."
      ],
      "metadata": {
        "id": "wqswBu2KPASu"
      }
    },
    {
      "cell_type": "code",
      "source": [
        "df.query(\"(TP_SEXO == 'M') | (IN_TREINEIRO == 1)\").sample(5)"
      ],
      "metadata": {
        "id": "2ea1DCzoPCgf"
      },
      "execution_count": null,
      "outputs": []
    },
    {
      "cell_type": "markdown",
      "source": [
        "Outra sintaxe:"
      ],
      "metadata": {
        "id": "fTJudEK7PRLE"
      }
    },
    {
      "cell_type": "code",
      "source": [
        "df.head()"
      ],
      "metadata": {
        "id": "QnC40ks8PSg8"
      },
      "execution_count": null,
      "outputs": []
    },
    {
      "cell_type": "code",
      "source": [
        "# cria uma máscara booleana\n",
        "mask = df.TP_SEXO == 'M'\n",
        "mask"
      ],
      "metadata": {
        "id": "8mAPe383PUP2"
      },
      "execution_count": null,
      "outputs": []
    },
    {
      "cell_type": "code",
      "source": [
        "df[mask]"
      ],
      "metadata": {
        "id": "qKfieod1P3Ve"
      },
      "execution_count": null,
      "outputs": []
    },
    {
      "cell_type": "code",
      "source": [
        "df[df.TP_SEXO == \"M\"].sample(5)"
      ],
      "metadata": {
        "id": "4X73N4-dP3ua"
      },
      "execution_count": null,
      "outputs": []
    },
    {
      "cell_type": "code",
      "source": [
        "df.loc[df.TP_SEXO == \"M\"].sample(5)"
      ],
      "metadata": {
        "id": "AhH_-jC6P5k2"
      },
      "execution_count": null,
      "outputs": []
    },
    {
      "cell_type": "code",
      "source": [
        "df[(df.TP_SEXO == \"M\") & (df.IN_TREINEIRO == 1)].sample(5)"
      ],
      "metadata": {
        "id": "kZTgZy5zP67u"
      },
      "execution_count": null,
      "outputs": []
    },
    {
      "cell_type": "code",
      "source": [
        "df.loc[(df.TP_SEXO == \"M\") & (df.IN_TREINEIRO == 1)].sample(5)"
      ],
      "metadata": {
        "id": "2ZAmtBCiP7y_"
      },
      "execution_count": null,
      "outputs": []
    },
    {
      "cell_type": "markdown",
      "source": [
        "Uma forma alternativa:"
      ],
      "metadata": {
        "id": "_h9C3wQUP_ct"
      }
    },
    {
      "cell_type": "code",
      "source": [
        "condition_1 = df.TP_SEXO == \"M\"\n",
        "condition_2 = df.IN_TREINEIRO == 1\n",
        "df.loc[(condition_1) & (condition_2)].sample(5)"
      ],
      "metadata": {
        "id": "ba7B-6DtP9dW"
      },
      "execution_count": null,
      "outputs": []
    },
    {
      "cell_type": "markdown",
      "source": [
        "Negação"
      ],
      "metadata": {
        "id": "HTTJP0pSQBt8"
      }
    },
    {
      "cell_type": "code",
      "source": [
        "df[df.NO_MUNICIPIO_PROVA.isin(['Itabuna', 'Salvador'])].NO_MUNICIPIO_PROVA.unique()"
      ],
      "metadata": {
        "id": "tQ5ObjJuQBCq"
      },
      "execution_count": null,
      "outputs": []
    },
    {
      "cell_type": "markdown",
      "source": [
        "Podemos usar o perador ~ para negar uma determinada condição:"
      ],
      "metadata": {
        "id": "3qpSi7UGQFhW"
      }
    },
    {
      "cell_type": "code",
      "source": [
        "df[~(df.NO_MUNICIPIO_PROVA.isin(['Salvador']))]"
      ],
      "metadata": {
        "id": "IdGFPIZjQIYy"
      },
      "execution_count": null,
      "outputs": []
    },
    {
      "cell_type": "markdown",
      "source": [
        "# Visualização de Dados"
      ],
      "metadata": {
        "id": "KydbR8qbveQj"
      }
    },
    {
      "cell_type": "code",
      "source": [
        "provas = df.columns[(df.columns.str.contains('NOTA')) & (~df.columns.str.contains('COMP'))].tolist()\n",
        "idCandidato = ['NU_INSCRICAO']"
      ],
      "metadata": {
        "id": "WHX_DVXYwZhN"
      },
      "execution_count": null,
      "outputs": []
    },
    {
      "cell_type": "markdown",
      "source": [
        "Utilizando uma sintaxe simples da biblioteca Pandas conseguimos gerar análises gráficas rapidamente. Podemos fazer os seguintes tipos de gráficos:\n",
        "\n",
        "* Barras\n",
        "* Pizza\n",
        "* Linha\n",
        "* Histograma\n",
        "* Boxplot\n",
        "* Densidade\n",
        "* Área\n",
        "* Dispersão\n",
        "\n",
        "\n",
        "Para obter mais detalhes acesse a documentação [aqui](https://pandas.pydata.org/docs/reference/api/pandas.DataFrame.plot.html)."
      ],
      "metadata": {
        "id": "aAFiQ1UOwdhY"
      }
    },
    {
      "cell_type": "code",
      "source": [
        "df.TP_ESCOLA.value_counts().plot(kind = 'bar')\n",
        "plt.title('Tipo escola dos participantes no ENEM 2021')"
      ],
      "metadata": {
        "id": "sp7TQ_GrwcGk"
      },
      "execution_count": null,
      "outputs": []
    },
    {
      "cell_type": "code",
      "source": [
        "df.TP_SEXO.value_counts().plot(kind = 'bar')"
      ],
      "metadata": {
        "id": "13tvGs0HwkDm"
      },
      "execution_count": null,
      "outputs": []
    },
    {
      "cell_type": "markdown",
      "source": [
        "Melhorando um pouco o plot:"
      ],
      "metadata": {
        "id": "DI1vZ8iNwlK4"
      }
    },
    {
      "cell_type": "code",
      "source": [
        "# gráfico de barras\n",
        "df.TP_SEXO.value_counts().plot(kind = 'bar', color = 'black')\n",
        "# título\n",
        "plt.title('Proporção de gêneros no ENEM 2021')\n",
        "# label do eixo x\n",
        "plt.xlabel('Sexo')\n",
        "# label do eixo y\n",
        "plt.ylabel('Quantidade')\n",
        "\n",
        "plt.show()\n",
        "#plt.xlabel('Sexo');plt.ylabel('Quantidade');plt.show()"
      ],
      "metadata": {
        "id": "zMvlFnO9wkdU"
      },
      "execution_count": null,
      "outputs": []
    },
    {
      "cell_type": "code",
      "source": [
        "#df.NO_MUNICIPIO_PROVA\\\n",
        "#.value_counts()\\\n",
        "#.reset_index()"
      ],
      "metadata": {
        "id": "luYtsEVawpoI"
      },
      "execution_count": null,
      "outputs": []
    },
    {
      "cell_type": "code",
      "source": [
        "(\n",
        "    df.NO_MUNICIPIO_PROVA\n",
        "    .value_counts()\n",
        "    .reset_index()\n",
        "    .rename(columns = {'index' : 'Município', 'NO_MUNICIPIO_PROVA': 'Quantidade'})\n",
        "    .nlargest(n = 15, columns = 'Quantidade')\n",
        "    .set_index('Município')\n",
        "    .plot(\n",
        "        kind = 'barh',\n",
        "        color = 'black',\n",
        "        legend = False,\n",
        "        xlabel = 'Quantidade',\n",
        "        title = 'Municípios baianos com maior quantidade de inscritos no ENEM 2021'\n",
        "    )\n",
        ");"
      ],
      "metadata": {
        "id": "BQcR-jMUwpVc"
      },
      "execution_count": null,
      "outputs": []
    },
    {
      "cell_type": "markdown",
      "source": [
        "# Gráfico de pizza"
      ],
      "metadata": {
        "id": "O9VywvOvw2Zo"
      }
    },
    {
      "cell_type": "markdown",
      "source": [
        "* Proporção entre os gêneros"
      ],
      "metadata": {
        "id": "beaIycUKw7oK"
      }
    },
    {
      "cell_type": "code",
      "source": [
        "df.TP_SEXO.value_counts().plot(kind = 'pie');"
      ],
      "metadata": {
        "id": "7x9ysyo8w6uQ"
      },
      "execution_count": null,
      "outputs": []
    },
    {
      "cell_type": "markdown",
      "source": [
        "* Tipo escola"
      ],
      "metadata": {
        "id": "2ZaIPh0Tyq2K"
      }
    },
    {
      "cell_type": "code",
      "source": [
        "(\n",
        "    df.TP_ESCOLA.map({1:'Não respondeu', 2:'Pública', 3:'Privada'})\n",
        "    .value_counts()\n",
        "    .plot(kind = 'pie',\n",
        "          legend = False,\n",
        "          autopct = '%.2f'\n",
        "         )\n",
        ");"
      ],
      "metadata": {
        "id": "dKvoE_eNyvJJ"
      },
      "execution_count": null,
      "outputs": []
    },
    {
      "cell_type": "markdown",
      "source": [
        "Gráfico de dispersão das notas de Matemática e Ciências da Natureza:"
      ],
      "metadata": {
        "id": "yWV4xRg_yraS"
      }
    },
    {
      "cell_type": "code",
      "source": [
        "df.plot(kind = 'scatter', x = 'NU_NOTA_MT', y = 'NU_NOTA_CN')"
      ],
      "metadata": {
        "id": "Mz_RF94ZyzP2"
      },
      "execution_count": null,
      "outputs": []
    },
    {
      "cell_type": "markdown",
      "source": [
        "Histograma"
      ],
      "metadata": {
        "id": "okp1g2vmy17t"
      }
    },
    {
      "cell_type": "code",
      "source": [
        "df.NU_NOTA_MT.plot(kind = 'hist')"
      ],
      "metadata": {
        "id": "Zl6mp07Iy2bY"
      },
      "execution_count": null,
      "outputs": []
    },
    {
      "cell_type": "markdown",
      "source": [
        "Boxplot"
      ],
      "metadata": {
        "id": "7UAQ1poqy3H8"
      }
    },
    {
      "cell_type": "code",
      "source": [
        "df.NU_NOTA_MT.plot(kind = 'box')"
      ],
      "metadata": {
        "id": "0V7vxoEty3m5"
      },
      "execution_count": null,
      "outputs": []
    },
    {
      "cell_type": "code",
      "source": [
        "df[provas].plot(kind = 'box')"
      ],
      "metadata": {
        "id": "DukPdj6Ny-mo"
      },
      "execution_count": null,
      "outputs": []
    },
    {
      "cell_type": "markdown",
      "source": [
        "Kde (densidade)"
      ],
      "metadata": {
        "id": "b26B46b1zAPw"
      }
    },
    {
      "cell_type": "code",
      "source": [
        "df.NU_NOTA_MT.plot(kind = 'kde')"
      ],
      "metadata": {
        "id": "5FQhMiImzCfQ"
      },
      "execution_count": null,
      "outputs": []
    },
    {
      "cell_type": "markdown",
      "source": [
        "Gráfico de linhas"
      ],
      "metadata": {
        "id": "zWkeqweozEsI"
      }
    },
    {
      "cell_type": "code",
      "source": [
        "(\n",
        "    df\n",
        "    .groupby(by = ['NO_MUNICIPIO_PROVA'])\n",
        "    .agg({'NU_NOTA_MT': np.mean})\n",
        "    .reset_index()\n",
        "    .rename(columns = {'NU_NOTA_MT' : 'Nota', 'NO_MUNICIPIO_PROVA': 'Município'})\n",
        "    .nlargest(n = 10, columns = 'Nota')\n",
        "    .plot(\n",
        "        x       = 'Município',\n",
        "        y       = 'Nota',\n",
        "        figsize = (15, 10),\n",
        "        color   = 'k',\n",
        "        ylabel  = 'Média em Matemática',\n",
        "        title   = 'Nota média em Matemática por municípios',\n",
        "        #ylim    = [520, 545]\n",
        "\n",
        "    )\n",
        "\n",
        ");"
      ],
      "metadata": {
        "id": "-0wvXQb6zGvy"
      },
      "execution_count": null,
      "outputs": []
    },
    {
      "cell_type": "markdown",
      "source": [
        "# Ordenação"
      ],
      "metadata": {
        "id": "r4-lygIi0yhG"
      }
    },
    {
      "cell_type": "markdown",
      "source": [
        "Em alguns casos precisamos ordenar os dados por alguma coluna ou conjunto de colunas. No Pandas podemos utilizar a função .sort_values()."
      ],
      "metadata": {
        "id": "hFhLaAMm02Zv"
      }
    },
    {
      "cell_type": "code",
      "source": [
        "provas = df.columns[(df.columns.str.contains('NOTA')) & (~df.columns.str.contains('COMP'))].tolist()\n",
        "idCandidato = ['NU_INSCRICAO']"
      ],
      "metadata": {
        "id": "9R6kBEgx04gf"
      },
      "execution_count": null,
      "outputs": []
    },
    {
      "cell_type": "code",
      "source": [
        "df_subset = df[idCandidato+provas].sample(n = 10, random_state = 9999)"
      ],
      "metadata": {
        "id": "-ghUQqce63Gm"
      },
      "execution_count": null,
      "outputs": []
    },
    {
      "cell_type": "code",
      "source": [
        "# ordena o dataset em ordem decrescente\n",
        "df_subset.sort_values(by = ['NU_NOTA_MT'], ascending = False)"
      ],
      "metadata": {
        "id": "H4nLeebY63rT"
      },
      "execution_count": null,
      "outputs": []
    },
    {
      "cell_type": "code",
      "source": [
        "# ordena o dataset em ordem crescente\n",
        "df_subset.sort_values(by = ['NU_NOTA_MT'], ascending = True)"
      ],
      "metadata": {
        "id": "4BiSMXhU8iC4"
      },
      "execution_count": null,
      "outputs": []
    },
    {
      "cell_type": "markdown",
      "source": [
        "Podemos definir onde queremos inserir os valores ausentes com na_position."
      ],
      "metadata": {
        "id": "XMV52hYT8j9J"
      }
    },
    {
      "cell_type": "code",
      "source": [
        "df_subset.sort_values(by = ['NU_NOTA_MT'], na_position = 'first', ascending = False)"
      ],
      "metadata": {
        "id": "SISRfUx68lXK"
      },
      "execution_count": null,
      "outputs": []
    },
    {
      "cell_type": "code",
      "source": [
        "df_subset.sort_values(by = ['NU_NOTA_MT'], na_position = 'last', ascending = False)"
      ],
      "metadata": {
        "id": "oN0UUX3p8oI4"
      },
      "execution_count": null,
      "outputs": []
    },
    {
      "cell_type": "markdown",
      "source": [
        "Podemos efetuar a ordenação por mais de uma coluna:"
      ],
      "metadata": {
        "id": "_EHvNkER8sdp"
      }
    },
    {
      "cell_type": "code",
      "source": [
        "df_subset.sort_values(by = ['NU_NOTA_MT', 'NU_NOTA_CN'], ascending = [False, False])"
      ],
      "metadata": {
        "id": "25EDwA8V8vqn"
      },
      "execution_count": null,
      "outputs": []
    },
    {
      "cell_type": "markdown",
      "source": [
        "Podemos ainda aplicar a função .sort_values() para uma Series, neste caso não precisamos especificar o argumento by:"
      ],
      "metadata": {
        "id": "Ew9Fcm9a8xsn"
      }
    },
    {
      "cell_type": "code",
      "source": [
        "type(df.NU_NOTA_MT)"
      ],
      "metadata": {
        "id": "5JdncYLY9QTu"
      },
      "execution_count": null,
      "outputs": []
    },
    {
      "cell_type": "code",
      "source": [
        "df_subset.NU_NOTA_MT.sort_values()"
      ],
      "metadata": {
        "id": "L5QMdwRn9VFy"
      },
      "execution_count": null,
      "outputs": []
    },
    {
      "cell_type": "code",
      "source": [
        "df_subset.NU_NOTA_MT.sort_values(ascending = True, na_position = 'first')"
      ],
      "metadata": {
        "id": "QJEiVguS9Wyw"
      },
      "execution_count": null,
      "outputs": []
    },
    {
      "cell_type": "markdown",
      "source": [
        "Em alguns casos estamos interessados em criar um ranking. Vamos filtra a base para os candidatos que fizeram a prova em Salvador e posteriormente criar um top 10 na prova de Matemática."
      ],
      "metadata": {
        "id": "PuTtMaCZ9XlL"
      }
    },
    {
      "cell_type": "code",
      "source": [
        "df_subset = df.query('NO_MUNICIPIO_PROVA == \"Salvador\"')[idCandidato+provas]"
      ],
      "metadata": {
        "id": "9URiqwGG9ZPh"
      },
      "execution_count": null,
      "outputs": []
    },
    {
      "cell_type": "code",
      "source": [
        "df_subset"
      ],
      "metadata": {
        "id": "1-UxOrI49aSZ"
      },
      "execution_count": null,
      "outputs": []
    },
    {
      "cell_type": "code",
      "source": [
        "df_subset.sort_values(by = ['NU_NOTA_MT'], ascending = False).iloc[:11, :]"
      ],
      "metadata": {
        "id": "fgn8BJgo9cU9"
      },
      "execution_count": null,
      "outputs": []
    },
    {
      "cell_type": "markdown",
      "source": [
        "Outra forma de fazer isso seria utilizando a função nlargest (para análise contrária podemos usar a função nsmallest):"
      ],
      "metadata": {
        "id": "g1UB-0PO9eYV"
      }
    },
    {
      "cell_type": "code",
      "source": [
        "df_subset.nlargest(n = 10, columns = 'NU_NOTA_MT')"
      ],
      "metadata": {
        "id": "7HnwmlMA9fpu"
      },
      "execution_count": null,
      "outputs": []
    },
    {
      "cell_type": "markdown",
      "source": [
        "Podemos ainda analisar por mais de 1 coluna:"
      ],
      "metadata": {
        "id": "0zYwaVP49hIv"
      }
    },
    {
      "cell_type": "code",
      "source": [
        "df_subset.sort_values(by = ['NU_NOTA_MT', 'NU_NOTA_CN'], ascending = False).iloc[:10, :]"
      ],
      "metadata": {
        "id": "I05Gzhuc9i-L"
      },
      "execution_count": null,
      "outputs": []
    },
    {
      "cell_type": "code",
      "source": [
        "# caso houvesse duplicidade poderíamos passar o argumento keep\n",
        "# keep = first : take the first occurrence.\n",
        "# keep = last : take the last occurrence.\n",
        "# keep = all : do not drop any duplicates, even it means selecting more than n items.\n",
        "df_subset.nlargest(n = 10, columns = ['NU_NOTA_MT', 'NU_NOTA_CN'], keep = 'first')"
      ],
      "metadata": {
        "id": "8YpHlTGn9lMG"
      },
      "execution_count": null,
      "outputs": []
    },
    {
      "cell_type": "code",
      "source": [
        "df_subset.nsmallest(n = 10, columns = ['NU_NOTA_MT', 'NU_NOTA_CN'], keep = 'first')"
      ],
      "metadata": {
        "id": "RZu8MWBK9mw4"
      },
      "execution_count": null,
      "outputs": []
    },
    {
      "cell_type": "markdown",
      "source": [
        "Índice\n",
        "\n"
      ],
      "metadata": {
        "id": "GoOihJCV9n-W"
      }
    },
    {
      "cell_type": "markdown",
      "source": [
        "A indexação do Pandas conta as linhas e colunas a partir do zero, mas podemos alterar o índice default do DataFrame e ainda ordenar um DataFrame de acordo com seu índice. Em séries temporais alterar o índice default pode facilitar o trabalho de filtro de datas."
      ],
      "metadata": {
        "id": "TtcEV6xT9qrc"
      }
    },
    {
      "cell_type": "markdown",
      "source": [
        "* set_index()"
      ],
      "metadata": {
        "id": "fkBqhh7D9stC"
      }
    },
    {
      "cell_type": "code",
      "source": [
        "df_subset.set_index('NU_INSCRICAO', inplace = True)"
      ],
      "metadata": {
        "id": "y_2pUD_t9tZ2"
      },
      "execution_count": null,
      "outputs": []
    },
    {
      "cell_type": "code",
      "source": [
        "df_subset.head()"
      ],
      "metadata": {
        "id": "OQdbx2Ml9vGY"
      },
      "execution_count": null,
      "outputs": []
    },
    {
      "cell_type": "markdown",
      "source": [
        "* sort_index()"
      ],
      "metadata": {
        "id": "AxBGmMg_ALoY"
      }
    },
    {
      "cell_type": "code",
      "source": [
        "# ordena o dataset de acordo com o índice\n",
        "df_subset.sort_index().head()"
      ],
      "metadata": {
        "id": "Je0-Hm2qAL-2"
      },
      "execution_count": null,
      "outputs": []
    },
    {
      "cell_type": "markdown",
      "source": [
        "Podemos escolhar mais de uma coluna como índice do DataFrame, com efeito criamos um MultiIndex."
      ],
      "metadata": {
        "id": "DVMzWxAkAOT-"
      }
    },
    {
      "cell_type": "code",
      "source": [
        "df_test = df.copy().sample(10)\n",
        "df_test = df_test.set_index(['NO_MUNICIPIO_PROVA', 'TP_SEXO'])"
      ],
      "metadata": {
        "id": "DKXZPDydAO8w"
      },
      "execution_count": null,
      "outputs": []
    },
    {
      "cell_type": "code",
      "source": [
        "df_test"
      ],
      "metadata": {
        "id": "jmd4i162AQRA"
      },
      "execution_count": null,
      "outputs": []
    },
    {
      "cell_type": "code",
      "source": [
        "type(df_test.index)"
      ],
      "metadata": {
        "id": "2vDwh3sYASV_"
      },
      "execution_count": null,
      "outputs": []
    },
    {
      "cell_type": "markdown",
      "source": [
        "* reset_index()"
      ],
      "metadata": {
        "id": "iWrDM7DQATpO"
      }
    },
    {
      "cell_type": "markdown",
      "source": [
        "Para retornar ao dataset original:"
      ],
      "metadata": {
        "id": "QAlcezKNAVK0"
      }
    },
    {
      "cell_type": "code",
      "source": [
        "df_subset = df_subset.reset_index(drop = False)"
      ],
      "metadata": {
        "id": "BDTngsS0AWTm"
      },
      "execution_count": null,
      "outputs": []
    },
    {
      "cell_type": "code",
      "source": [
        "df_subset.head()"
      ],
      "metadata": {
        "id": "Xo4WDLFSAXQu"
      },
      "execution_count": null,
      "outputs": []
    },
    {
      "cell_type": "markdown",
      "source": [
        "# Agregação/Sumarização"
      ],
      "metadata": {
        "id": "xE0miR_PAdc1"
      }
    },
    {
      "cell_type": "markdown",
      "source": [
        "Nesta seção vamos aprender a aplicar medidas para sumarizar dados, tais como soma, contagem, média, mediana, etc.\n",
        "\n",
        "Em geral para aplicar uma função de agregação em uma coluna a sintaxe será :\n",
        "\n",
        "df.column.agg_function()"
      ],
      "metadata": {
        "id": "vKB5lp3DAm5Q"
      }
    },
    {
      "cell_type": "markdown",
      "source": [
        "Função|Descrição\n",
        "------|----------\n",
        "df.sum()|Soma\n",
        "df.count()|Contagem\n",
        "df.abs()|Valor absoluto\n",
        "df.cumsum()|Soma cumulativa\n",
        "df.cumprod()|Produto cumulativo\n",
        "df.min()|Mínimo\n",
        "df.max()|Máximo\n",
        "df.mean()|Média\n",
        "df.median()|Mediana\n",
        "df.mode()|Moda\n",
        "df.var()|Variância\n",
        "df.std()|Desvio Padrão\n",
        "df.mad()|Desvio Médio Absoluto\n",
        "df.skew()|Medida de Assimetria da Distribuição\n",
        "df.kurtosis()|Curtose\n",
        "df.corr()|Correlação\n",
        "df.cov()|Covariância\n",
        "df.quantile()|Quantil"
      ],
      "metadata": {
        "id": "AcyCtYhNAs3E"
      }
    },
    {
      "cell_type": "markdown",
      "source": [
        "Agora vejamos alguns exemplos:"
      ],
      "metadata": {
        "id": "XeS1WqScAvxo"
      }
    },
    {
      "cell_type": "code",
      "source": [
        "# média das provas\n",
        "df[provas].mean()"
      ],
      "metadata": {
        "id": "Vfz37XOdAeMc"
      },
      "execution_count": null,
      "outputs": []
    },
    {
      "cell_type": "code",
      "source": [
        "# moda da variável sexo\n",
        "df['TP_SEXO'].mode()"
      ],
      "metadata": {
        "id": "zaY9H8PT3acY"
      },
      "execution_count": null,
      "outputs": []
    },
    {
      "cell_type": "markdown",
      "source": [
        "A função .agg() permite aplicar mais de uma função de agregação ou operações ao longo dos eixos. Aggregate using one or more operations over the specified axis. Neste caso podemos inserir funções de agregação do NumPy."
      ],
      "metadata": {
        "id": "vPYTeB4T3doS"
      }
    },
    {
      "cell_type": "code",
      "source": [
        "# valor máximo das provas\n",
        "# df[provas].agg(max)\n",
        "df[provas].agg(np.max)"
      ],
      "metadata": {
        "id": "q8XbffWE3g77"
      },
      "execution_count": null,
      "outputs": []
    },
    {
      "cell_type": "markdown",
      "source": [
        "Para aplicar mais de uma função de agregação podemos passar uma lista contendo todas as agregações desejadas:"
      ],
      "metadata": {
        "id": "U_M0GOZO3iyY"
      }
    },
    {
      "cell_type": "code",
      "source": [
        "df[provas].agg([np.min, np.max, np.mean])"
      ],
      "metadata": {
        "id": "LgbDxw9p3kp6"
      },
      "execution_count": null,
      "outputs": []
    },
    {
      "cell_type": "markdown",
      "source": [
        "Podemos mudar o eixo de aplicação das funções de agregaçaõ. Isto é, podemos aplicar uma soma nas linhas ou nas colunas, por exemplo."
      ],
      "metadata": {
        "id": "aOqXPpJx3u9t"
      }
    },
    {
      "cell_type": "code",
      "source": [
        "# média das colunas\n",
        "df[provas].mean(axis = 0)"
      ],
      "metadata": {
        "id": "TRNzO1pD4LZI"
      },
      "execution_count": null,
      "outputs": []
    },
    {
      "cell_type": "code",
      "source": [
        "# média das linhas\n",
        "df[provas].mean(axis = 1)"
      ],
      "metadata": {
        "id": "NhNp4WE_4NrA"
      },
      "execution_count": null,
      "outputs": []
    },
    {
      "cell_type": "markdown",
      "source": [
        "Observe que no primeiro caso nosso objetivo foi analisar a média geral dos alunos da amostra. No segundo caso, fizemos o cálculo da média de cada aluno nas provas."
      ],
      "metadata": {
        "id": "AtNi17S44R0o"
      }
    },
    {
      "cell_type": "markdown",
      "source": [
        "Em alguns casos estamos interessados em obter o valor máximo, mas também obter a linha deste registro. Idem para o mínimo. Neste caso, podemos usar as funções idxmin() e idxmax(). Para séries temporais tal análise é importante, pois conseguimos obter, por exemplo, a data de ocorrência do valor máximo ou mínimo."
      ],
      "metadata": {
        "id": "JLcQ2aAM4TLj"
      }
    },
    {
      "cell_type": "code",
      "source": [
        "# valor máximo, índice de ocorrência do valor máximo\n",
        "df.NU_NOTA_MT.max(), df.NU_NOTA_MT.idxmax()"
      ],
      "metadata": {
        "id": "xmWEP0nG4Vnd"
      },
      "execution_count": null,
      "outputs": []
    },
    {
      "cell_type": "code",
      "source": [
        "# verifica o resultado anterior\n",
        "df.iloc[df.NU_NOTA_MT.idxmax(), ]"
      ],
      "metadata": {
        "id": "5hki5FeV4XDN"
      },
      "execution_count": null,
      "outputs": []
    },
    {
      "cell_type": "markdown",
      "source": [
        "# Transformação de dados"
      ],
      "metadata": {
        "id": "icDPW13-4bvU"
      }
    },
    {
      "cell_type": "markdown",
      "source": [
        "Nesta seção vamos aprender algumas técnicas de transformação dos dados."
      ],
      "metadata": {
        "id": "essStZqt4f2f"
      }
    },
    {
      "cell_type": "code",
      "source": [
        "df_ssa = df[df.NO_MUNICIPIO_PROVA == 'Salvador'][idCandidato+provas].sample(10, random_state = 10)"
      ],
      "metadata": {
        "id": "r4FA0CCm4hhF"
      },
      "execution_count": null,
      "outputs": []
    },
    {
      "cell_type": "markdown",
      "source": [
        "Vamos criar duas novas colunas:\n",
        "\n",
        "Média das provas Objetivas\n",
        "Média Global\n",
        "Vejamos algumas formas distintas de alcançar este objetivo."
      ],
      "metadata": {
        "id": "DHxVPcLK4kHd"
      }
    },
    {
      "cell_type": "code",
      "source": [
        "provas_objetivas = provas.copy()\n",
        "provas_objetivas.remove('NU_NOTA_REDACAO')"
      ],
      "metadata": {
        "id": "Oxa0U31I4lmn"
      },
      "execution_count": null,
      "outputs": []
    },
    {
      "cell_type": "markdown",
      "source": [
        "Uma forma de fazer isso seria:"
      ],
      "metadata": {
        "id": "BoxyQ2fm4nBM"
      }
    },
    {
      "cell_type": "code",
      "source": [
        "df_ssa['NU_MEDIA_OBJ_1'] = (df_ssa['NU_NOTA_CN']+df_ssa['NU_NOTA_CH']+df_ssa['NU_NOTA_LC']+df_ssa['NU_NOTA_MT'])/4"
      ],
      "metadata": {
        "id": "KRlago7z4pGC"
      },
      "execution_count": null,
      "outputs": []
    },
    {
      "cell_type": "code",
      "source": [
        "df_ssa['NU_MEDIA_OBJ_1']"
      ],
      "metadata": {
        "id": "VxQn231k4sTX"
      },
      "execution_count": null,
      "outputs": []
    },
    {
      "cell_type": "markdown",
      "source": [
        "Usando função de agregação:"
      ],
      "metadata": {
        "id": "trvHT0g04tDU"
      }
    },
    {
      "cell_type": "code",
      "source": [
        "df_ssa[provas_objetivas].mean(axis = 1)"
      ],
      "metadata": {
        "id": "65nzE1a94u1n"
      },
      "execution_count": null,
      "outputs": []
    },
    {
      "cell_type": "code",
      "source": [
        "df_ssa[provas_objetivas].agg(func = np.mean, axis = 1)"
      ],
      "metadata": {
        "id": "1Rl20-Ih4wdc"
      },
      "execution_count": null,
      "outputs": []
    },
    {
      "cell_type": "markdown",
      "source": [
        "Uma pequena diferença se usarmos uma lista dentro do argumento func:"
      ],
      "metadata": {
        "id": "zROfD2PY4yc6"
      }
    },
    {
      "cell_type": "code",
      "source": [
        "df_ssa[provas_objetivas].agg(func = [np.mean], axis = 1)"
      ],
      "metadata": {
        "id": "_LTIbUne42ZS"
      },
      "execution_count": null,
      "outputs": []
    },
    {
      "cell_type": "markdown",
      "source": [
        "Outra forma de fazermos isso seria utilizando a função pd.eval() ou ainda a função assign:"
      ],
      "metadata": {
        "id": "YpJ2q_Nu4374"
      }
    },
    {
      "cell_type": "code",
      "source": [
        "df_ssa.eval('(NU_NOTA_CN+NU_NOTA_CH+NU_NOTA_LC+NU_NOTA_MT) / 4')"
      ],
      "metadata": {
        "id": "iRvuOEs648JQ"
      },
      "execution_count": null,
      "outputs": []
    },
    {
      "cell_type": "code",
      "source": [
        "df_ssa.assign(media_obj = (df_ssa.NU_NOTA_MT+df_ssa.NU_NOTA_CN+df_ssa.NU_NOTA_LC+df_ssa.NU_NOTA_CH) / 4)"
      ],
      "metadata": {
        "id": "QNR0cyvD4-qq"
      },
      "execution_count": null,
      "outputs": []
    },
    {
      "cell_type": "markdown",
      "source": [
        "Em algumas análises podemos tomar o log de uma determinada variável, veremos mais sobre isso na aula de Estatística Básica."
      ],
      "metadata": {
        "id": "jUUnIHp15AAA"
      }
    },
    {
      "cell_type": "code",
      "source": [
        "np.log(df_ssa.NU_NOTA_MT)"
      ],
      "metadata": {
        "id": "_02yKutd5Awa"
      },
      "execution_count": null,
      "outputs": []
    },
    {
      "cell_type": "code",
      "source": [
        "df_ssa = df_ssa.assign(\n",
        "    log_nota_mt = lambda col: np.log(col.NU_NOTA_MT) ,\n",
        "    log_nota_cn = lambda col: np.log(col.NU_NOTA_CN) ,\n",
        "    log_nota_ch = lambda col: np.log(col.NU_NOTA_CH) ,\n",
        "    log_nota_lc = lambda col: np.log(col.NU_NOTA_LC)\n",
        "             )"
      ],
      "metadata": {
        "id": "M_xZNnFs5CSZ"
      },
      "execution_count": null,
      "outputs": []
    },
    {
      "cell_type": "markdown",
      "source": [
        "Podemos usar ainda a função .apply():"
      ],
      "metadata": {
        "id": "FPKASLfD5FNR"
      }
    },
    {
      "cell_type": "code",
      "source": [
        "df_ssa[provas_objetivas].apply(lambda col: np.log(col))"
      ],
      "metadata": {
        "id": "pZaqa6sW5Gjp"
      },
      "execution_count": null,
      "outputs": []
    },
    {
      "cell_type": "markdown",
      "source": [
        "Aplicando funções"
      ],
      "metadata": {
        "id": "1GLZNYwQ5IXb"
      }
    },
    {
      "cell_type": "markdown",
      "source": [
        "map()\n",
        "\n",
        "percorre item por item e aplica uma função desejada.\n",
        "Neste exemplo, vamos percorrer cada valor de renda e aplicar a função np.log()."
      ],
      "metadata": {
        "id": "SQiqMjJP5Xfv"
      }
    },
    {
      "cell_type": "code",
      "source": [
        "df.query('NU_NOTA_MT != 0').NU_NOTA_MT.map(np.log)"
      ],
      "metadata": {
        "id": "vtGfM3iB5YQx"
      },
      "execution_count": null,
      "outputs": []
    },
    {
      "cell_type": "markdown",
      "source": [
        "Podemos usar a funçaõ map() para transformar variáveis. Na coluna TP_COR_RACA temos informações de cor/raça do candidato."
      ],
      "metadata": {
        "id": "BMH3iZbN5b4_"
      }
    },
    {
      "cell_type": "code",
      "source": [
        "# 0 : Não declarado\n",
        "# 1 : Branca\n",
        "# 2 : Preta\n",
        "# 3 : Parda\n",
        "# 4 : Amarela\n",
        "# 5 : Indígena"
      ],
      "metadata": {
        "id": "THKp-n8-5ctt"
      },
      "execution_count": null,
      "outputs": []
    },
    {
      "cell_type": "code",
      "source": [
        "np.sort(df.TP_COR_RACA.unique())"
      ],
      "metadata": {
        "id": "mO15dkkn5eZp"
      },
      "execution_count": null,
      "outputs": []
    },
    {
      "cell_type": "code",
      "source": [
        "mapear_valores_cor_raca = {\n",
        "    0 : 'Não declarado',\n",
        "    1 : 'Branca',\n",
        "    2 : 'Preta',\n",
        "    3 : 'Parda',\n",
        "    4 : 'Amarela',\n",
        "    5 : 'Indígena'\n",
        "}"
      ],
      "metadata": {
        "id": "SwGIsk-e5fhx"
      },
      "execution_count": null,
      "outputs": []
    },
    {
      "cell_type": "code",
      "source": [
        "df.TP_COR_RACA.map(mapear_valores_cor_raca)"
      ],
      "metadata": {
        "id": "Jdo4d7lT5iEY"
      },
      "execution_count": null,
      "outputs": []
    },
    {
      "cell_type": "markdown",
      "source": [
        "Podemos usar também a função replace:"
      ],
      "metadata": {
        "id": "hunqZRwX5lXW"
      }
    },
    {
      "cell_type": "code",
      "source": [
        "df.TP_SEXO.replace({'M': 'Masculino', 'F' : 'Feminino'})"
      ],
      "metadata": {
        "id": "4MFbaFFZ5ls-"
      },
      "execution_count": null,
      "outputs": []
    },
    {
      "cell_type": "markdown",
      "source": [
        "apply()\n",
        "\n",
        "podemos aplicar uma função em todas as linhas ou em todas as colunas (ou seja, aplica uma função em um determinado eixo)."
      ],
      "metadata": {
        "id": "ZxwN5CRS5og2"
      }
    },
    {
      "cell_type": "code",
      "source": [
        "def resultado_candidato(nota):\n",
        "    if nota < 600 :\n",
        "        return 'Reprovado'\n",
        "    else:\n",
        "        return 'Aprovado'"
      ],
      "metadata": {
        "id": "OyY_302_5pfa"
      },
      "execution_count": null,
      "outputs": []
    },
    {
      "cell_type": "code",
      "source": [
        "df[df.NU_NOTA_MT.notna()].NU_NOTA_MT.apply(resultado_candidato)"
      ],
      "metadata": {
        "id": "CjIWIVAD6LC8"
      },
      "execution_count": null,
      "outputs": []
    },
    {
      "cell_type": "markdown",
      "source": [
        "Podemos usar apply() para transformar uma coluna:"
      ],
      "metadata": {
        "id": "-0xTgees6MWh"
      }
    },
    {
      "cell_type": "code",
      "source": [
        "def mapear_tipo_escola(tipo_escola):\n",
        "    if tipo_escola == 1:\n",
        "        return 'Não respondeu'\n",
        "    elif tipo_escola == 2:\n",
        "        return 'Pública'\n",
        "    else:\n",
        "        return 'Privada'"
      ],
      "metadata": {
        "id": "zqmTeTT_6M8W"
      },
      "execution_count": null,
      "outputs": []
    },
    {
      "cell_type": "code",
      "source": [
        "df.TP_ESCOLA.apply(mapear_tipo_escola)"
      ],
      "metadata": {
        "id": "MHBB6lia6OiY"
      },
      "execution_count": null,
      "outputs": []
    },
    {
      "cell_type": "code",
      "source": [
        "df.TP_SEXO.apply(lambda col: 'Masculino' if col == 'M' else 'Feminino')"
      ],
      "metadata": {
        "id": "NJUodnMp6QE6"
      },
      "execution_count": null,
      "outputs": []
    },
    {
      "cell_type": "markdown",
      "source": [
        "# Agrupamento"
      ],
      "metadata": {
        "id": "e6n1wjt16YOl"
      }
    },
    {
      "cell_type": "markdown",
      "source": [
        "Anteriormente aprendemos a aplicar funções de agregação de forma genérica para uma ou mais variáveis. Algo muito como quando estamos analisando dados é obter tais medidas agrupadas. Ou seja, qual a média da prova de matemática por gênero?"
      ],
      "metadata": {
        "id": "P13oZXtD6gG7"
      }
    },
    {
      "cell_type": "markdown",
      "source": [
        "<img src=\"https://jakevdp.github.io/PythonDataScienceHandbook/figures/03.08-split-apply-combine.png\" height=400 width=400>"
      ],
      "metadata": {
        "id": "DSND1rQY6qkt"
      }
    },
    {
      "cell_type": "markdown",
      "source": [
        "O flow é o seguinte:\n",
        "\n",
        "split: os dados são separados de acordo com seus grupos (A, B, C).\n",
        "apply: após o split aplica-se a função de agregação desejada, neste caso a função sum().\n",
        "combine: o resultado final é combinado.\n",
        "Então note que, após separar os grupos e aplicar a soma para cada grupo, obtemos um dataset final com o resultado desta operação (split-apply-combine)."
      ],
      "metadata": {
        "id": "ux4uk-xD6sFR"
      }
    },
    {
      "cell_type": "markdown",
      "source": [
        "Vamos usar esta seção para responder as seguintes perguntas:\n",
        "\n",
        "Qual a proporção de gênero entre os candidatos?\n",
        "Qual a média das provas por tipo de escola?"
      ],
      "metadata": {
        "id": "8-7rYs0T6uaV"
      }
    },
    {
      "cell_type": "code",
      "source": [
        "# grupos\n",
        "df.groupby(by = ['TP_SEXO']).groups"
      ],
      "metadata": {
        "id": "F0AUwwvo6wH7"
      },
      "execution_count": null,
      "outputs": []
    },
    {
      "cell_type": "code",
      "source": [
        "# proporção de gênero\n",
        "df.groupby(by = ['TP_SEXO'])[idCandidato].count()"
      ],
      "metadata": {
        "id": "MwFuKdAX6xGR"
      },
      "execution_count": null,
      "outputs": []
    },
    {
      "cell_type": "markdown",
      "source": [
        "De forma análoga poderíamos usar a função .value_counts(), que retorna a distribuição de frequências da variável."
      ],
      "metadata": {
        "id": "djSvnc2A6zBD"
      }
    },
    {
      "cell_type": "code",
      "source": [
        "df.TP_SEXO.value_counts()"
      ],
      "metadata": {
        "id": "2pLxrqNo6zq1"
      },
      "execution_count": null,
      "outputs": []
    },
    {
      "cell_type": "markdown",
      "source": [
        "Agora vamos criar uma nova coluna no nosso dataset original, para mapear os valores numéricos em suas respectivas categorias. Seguidamente vamos verificar a nota média nas provas por tipo de escola."
      ],
      "metadata": {
        "id": "UchWaVhf609N"
      }
    },
    {
      "cell_type": "code",
      "source": [
        "df['TP_ESCOLA_CAT'] = df.TP_ESCOLA.map({1 : 'Não respondeu', 2: 'Pública', 3: 'Privada'})"
      ],
      "metadata": {
        "id": "-CRY8EhD6635"
      },
      "execution_count": null,
      "outputs": []
    },
    {
      "cell_type": "code",
      "source": [
        "df.groupby(by = ['TP_ESCOLA_CAT'])[provas].agg(np.mean).sort_values(by = ['NU_NOTA_MT'], ascending = False)"
      ],
      "metadata": {
        "id": "o__J8ogm68t3"
      },
      "execution_count": null,
      "outputs": []
    },
    {
      "cell_type": "code",
      "source": [
        "# A maior parcela dos alunos são da categoria Não respondeu.\n",
        "np.multiply(df['TP_ESCOLA_CAT'].value_counts(normalize = True), 100).round(2)"
      ],
      "metadata": {
        "id": "7WvY6zbe6-yH"
      },
      "execution_count": null,
      "outputs": []
    },
    {
      "cell_type": "markdown",
      "source": [
        "Para não comprometer nossa análise vamos remover a categoria Não respondeu."
      ],
      "metadata": {
        "id": "AMaShi6C6_d5"
      }
    },
    {
      "cell_type": "code",
      "source": [
        "# distribuição de frequências em termos absolutos\n",
        "df.query('TP_ESCOLA_CAT != \"Não respondeu\"')['TP_ESCOLA_CAT'].value_counts(normalize = False)"
      ],
      "metadata": {
        "id": "Dhl7YYEn7F4l"
      },
      "execution_count": null,
      "outputs": []
    },
    {
      "cell_type": "code",
      "source": [
        "# distribuição de frequências em termos relativos\n",
        "np.multiply(df.query('TP_ESCOLA_CAT != \"Não respondeu\"')['TP_ESCOLA_CAT'].value_counts(normalize = True),\n",
        "            100)\\\n",
        ".round()"
      ],
      "metadata": {
        "id": "iYhNpdlK7Hyd"
      },
      "execution_count": null,
      "outputs": []
    },
    {
      "cell_type": "markdown",
      "source": [
        "Para evitar repetição e construir um código mais limpo poderíamos fazer da seguinte forma:"
      ],
      "metadata": {
        "id": "4CZVSCgs7Kdq"
      }
    },
    {
      "cell_type": "code",
      "source": [
        "subset_tp_escola = df[df.TP_ESCOLA_CAT != 'Não respondeu']\n",
        "# distribuição de frequência em termos relativos\n",
        "display(subset_tp_escola.TP_ESCOLA_CAT.value_counts(normalize = True))\n",
        "# distribuição de frequência em termos absolutos\n",
        "display(subset_tp_escola.TP_ESCOLA_CAT.value_counts(normalize = False))"
      ],
      "metadata": {
        "id": "zkJm0NKV7LEx"
      },
      "execution_count": null,
      "outputs": []
    },
    {
      "cell_type": "markdown",
      "source": [
        "Agora vamos obter a média das notas por tipo de escola:"
      ],
      "metadata": {
        "id": "FQdWzDJJ7MlF"
      }
    },
    {
      "cell_type": "code",
      "source": [
        "subset_tp_escola\\\n",
        ".groupby(by = ['TP_ESCOLA_CAT'])[provas]\\\n",
        ".agg(np.mean)\\\n",
        ".sort_values(by = ['NU_NOTA_MT'], ascending = False)"
      ],
      "metadata": {
        "id": "Y1LZxKfm7OtK"
      },
      "execution_count": null,
      "outputs": []
    },
    {
      "cell_type": "markdown",
      "source": [
        "Utilizaremos agora mais de uma coluna para agrupar a nossa amostra e aplicaremos várias funções de agregação."
      ],
      "metadata": {
        "id": "lZ3JCZUi7QI_"
      }
    },
    {
      "cell_type": "code",
      "source": [
        "# análise apenas para a prova de matemática\n",
        "(\n",
        "    subset_tp_escola\n",
        "    .groupby(by = ['TP_ESCOLA_CAT', 'TP_LOCALIZACAO_ESC'], as_index = False)['NU_NOTA_MT']\n",
        "    .agg([np.mean])\n",
        ")"
      ],
      "metadata": {
        "id": "uJ8WzgUQ7Rc9"
      },
      "execution_count": null,
      "outputs": []
    },
    {
      "cell_type": "code",
      "source": [
        "# análise para todas as provas\n",
        "(subset_tp_escola\n",
        " .groupby(by = ['TP_ESCOLA_CAT', 'TP_LOCALIZACAO_ESC'])[provas]\n",
        " .agg([np.min, np.mean, np.median, np.std, np.max])\n",
        " .transpose()\n",
        ")"
      ],
      "metadata": {
        "id": "9lZ1oxU17Yvr"
      },
      "execution_count": null,
      "outputs": []
    },
    {
      "cell_type": "markdown",
      "source": [
        "Com a função .agg() conseguimos também aplicar funções de agregação distintas para cada coluna:"
      ],
      "metadata": {
        "id": "lJlLFloq7Z2r"
      }
    },
    {
      "cell_type": "code",
      "source": [
        "(\n",
        "    subset_tp_escola\n",
        "    .groupby(by = ['TP_ESCOLA_CAT'])\n",
        "    .agg(\n",
        "        {\n",
        "            'NU_NOTA_MT': [np.mean, np.median],\n",
        "            'NU_NOTA_CN': [np.min, np.max]\n",
        "        }\n",
        "\n",
        "        )\n",
        ")"
      ],
      "metadata": {
        "id": "5kuufC5b7a8v"
      },
      "execution_count": null,
      "outputs": []
    },
    {
      "cell_type": "markdown",
      "source": [
        "# Join e concat"
      ],
      "metadata": {
        "id": "-HpNDQJb7e4B"
      }
    },
    {
      "cell_type": "markdown",
      "source": [
        "No Pandas `pd.merge()` é uma função utilizada para unir datasets por meio de uma coluna que seja comum para ambos. Frequentemente precisamos consultar dados em várias tabelas e consolidar em uma tabela final. Vamos imaginar que precisamos construir uma tabela com dados cadastrais dos clientes de uma empresa. Provável que estes dados estejam espalhados ao longo de várias tabelas.\n",
        "\n",
        "Exemplo:\n",
        "\n",
        "* tb_cadastro\n",
        "* tb_celular\n",
        "* tb_endereco\n",
        "* tb_tempo_relacionamento\n",
        "\n",
        "Comum a todas as tabelas será provavelmente alguma coluna como o id do cliente (primary key). Desta forma, para consolidar todas as informações cadastrais dos clientes em uma única tabela precisaríamos percorrer várias tabelas e fazer um join. Ocorre ainda a possibilidade de termos que consolidar outros dados por meio de transformação de variáveis e consolidar nesta tabela cadastral, pense por exemplo se a necessidade fosse conta quantas compras este consumidor fez no último mês.\n",
        "\n",
        "\n",
        "Vejamos os principais parâmetros da função merge (neste caso em ambos os datasets, temos que o nome da coluna em comum seja o mesmo):\n",
        "\n",
        "```python\n",
        "df_left.merge(df_right, on = 'column', how = 'left|right|outer|inner')\n",
        "```\n",
        "\n",
        "Caso o nome da coluna em comum seja distinta entre os datasets então teríamos:\n",
        "\n",
        "\n",
        "```python\n",
        "df_left.merge(df_right, left_on = 'column_left', right_on = 'column_right', how = 'inner')\n",
        "```\n",
        "\n",
        "\n",
        "Tipos de joins\n",
        "\n",
        "<img src = 'https://datascience.quantecon.org/_images/merge_venns.png' width = 400 />\n",
        "\n",
        "\n",
        "Vejamos agora exemplos práticos."
      ],
      "metadata": {
        "id": "MmUIPQs47nbp"
      }
    },
    {
      "cell_type": "code",
      "source": [
        "customer_1 = pd.DataFrame({\n",
        "    'id_customer': [1, 2, 3, 4, 5],\n",
        "    'occupation': ['Data Scientist', 'Economist', 'Data Scientist', 'Data Engineer', 'Data Scientist']\n",
        "})"
      ],
      "metadata": {
        "id": "SU9-eusP7qPw"
      },
      "execution_count": null,
      "outputs": []
    },
    {
      "cell_type": "code",
      "source": [
        "customer_2 = pd.DataFrame({\n",
        "    'id_customer': [2, 3, 4, 5],\n",
        "    'experience': [10, 3, 2, 4]\n",
        "})"
      ],
      "metadata": {
        "id": "osQ1DnKM7r9k"
      },
      "execution_count": null,
      "outputs": []
    },
    {
      "cell_type": "code",
      "source": [
        "display(customer_1, customer_2)"
      ],
      "metadata": {
        "id": "IUXR0whw7tfc"
      },
      "execution_count": null,
      "outputs": []
    },
    {
      "cell_type": "code",
      "source": [
        "pd.merge(customer_1, customer_2)"
      ],
      "metadata": {
        "id": "z7gqzG4j7uee"
      },
      "execution_count": null,
      "outputs": []
    },
    {
      "cell_type": "code",
      "source": [
        "customer_merged = pd.merge(customer_1, customer_2, on = 'id_customer', how = 'inner')"
      ],
      "metadata": {
        "id": "7KF9mZ9n7vvG"
      },
      "execution_count": null,
      "outputs": []
    },
    {
      "cell_type": "code",
      "source": [
        "customer_merged"
      ],
      "metadata": {
        "id": "UVx7HLkS7w4F"
      },
      "execution_count": null,
      "outputs": []
    },
    {
      "cell_type": "code",
      "source": [
        "customer_3 = pd.DataFrame({\n",
        "    'id_customer': [2, 3, 5, 8],\n",
        "    'State': ['BA', 'SP', 'SP', 'RJ']\n",
        "})"
      ],
      "metadata": {
        "id": "XY7vVieH7x7K"
      },
      "execution_count": null,
      "outputs": []
    },
    {
      "cell_type": "code",
      "source": [
        "pd.merge(customer_merged, customer_3, on = 'id_customer')"
      ],
      "metadata": {
        "id": "0i_inugy7yxQ"
      },
      "execution_count": null,
      "outputs": []
    },
    {
      "cell_type": "code",
      "source": [
        "customer_4 = pd.DataFrame({\n",
        "    'id_customer': [2, 2, 2, 5, 5],\n",
        "    'order_date': [2019, 2020, 2022, 2017, 2022]\n",
        "})"
      ],
      "metadata": {
        "id": "kjLmfErZ70rw"
      },
      "execution_count": null,
      "outputs": []
    },
    {
      "cell_type": "code",
      "source": [
        "pd.merge(customer_merged, customer_4)"
      ],
      "metadata": {
        "id": "lqq00ILx71S2"
      },
      "execution_count": null,
      "outputs": []
    },
    {
      "cell_type": "code",
      "source": [
        "customer_5 = pd.DataFrame({\n",
        "    'customer_number': [1, 2, 3, 4, 5, 10, 11, 12, 13],\n",
        "    'age': [40, 33, 27, 35, 39, 44, 25, 23, 29]\n",
        "})"
      ],
      "metadata": {
        "id": "7IAc4A3273ae"
      },
      "execution_count": null,
      "outputs": []
    },
    {
      "cell_type": "code",
      "source": [
        "pd.merge(customer_1, customer_5, left_on = 'id_customer', right_on = 'customer_number', how = 'inner')\\\n",
        ".drop(columns = 'customer_number')"
      ],
      "metadata": {
        "id": "The8TziP74O0"
      },
      "execution_count": null,
      "outputs": []
    },
    {
      "cell_type": "code",
      "source": [
        "customer_1_modified = customer_1.set_index('id_customer')"
      ],
      "metadata": {
        "id": "T2CiRAJD76Ff"
      },
      "execution_count": null,
      "outputs": []
    },
    {
      "cell_type": "code",
      "source": [
        "customer_2_modified = customer_2.set_index('id_customer')"
      ],
      "metadata": {
        "id": "pHqB2fFo76rq"
      },
      "execution_count": null,
      "outputs": []
    },
    {
      "cell_type": "code",
      "source": [
        "pd.merge(\n",
        "    customer_1_modified,\n",
        "    customer_2_modified,\n",
        "    left_index = True,\n",
        "    right_index = True,\n",
        ")\\\n",
        ".reset_index()"
      ],
      "metadata": {
        "id": "KQ2CyoB178dy"
      },
      "execution_count": null,
      "outputs": []
    },
    {
      "cell_type": "code",
      "source": [
        "customer_1_modified.join(customer_2_modified, how = 'inner')"
      ],
      "metadata": {
        "id": "eKbwKiDa79yI"
      },
      "execution_count": null,
      "outputs": []
    },
    {
      "cell_type": "code",
      "source": [
        "order = pd.DataFrame({'id_customer': [3, 5],\n",
        "                      'order_name': ['Book', 'Car']\n",
        "                     })"
      ],
      "metadata": {
        "id": "BPAhI3qD7-jk"
      },
      "execution_count": null,
      "outputs": []
    },
    {
      "cell_type": "code",
      "source": [
        "customer_1"
      ],
      "metadata": {
        "id": "5SQl9OiX8ANq"
      },
      "execution_count": null,
      "outputs": []
    },
    {
      "cell_type": "code",
      "source": [
        "pd.merge(customer_1, order, how = 'inner')"
      ],
      "metadata": {
        "id": "i3uKPudG8BJ-"
      },
      "execution_count": null,
      "outputs": []
    },
    {
      "cell_type": "code",
      "source": [
        "pd.merge(order, customer_1, how = 'left')"
      ],
      "metadata": {
        "id": "iJ9ygTU18CXX"
      },
      "execution_count": null,
      "outputs": []
    },
    {
      "cell_type": "code",
      "source": [
        "pd.merge(order, customer_1, how = 'right').fillna(0)"
      ],
      "metadata": {
        "id": "K6ak7ez_8Euj"
      },
      "execution_count": null,
      "outputs": []
    },
    {
      "cell_type": "code",
      "source": [
        "pd.merge(order, customer_1, how = 'outer')"
      ],
      "metadata": {
        "id": "1LgRd-Y38FnD"
      },
      "execution_count": null,
      "outputs": []
    },
    {
      "cell_type": "markdown",
      "source": [
        "Agora vamos voltar aos dados do ENEM e fazer um join da nossa base com a base que possui informações socioeconômicas."
      ],
      "metadata": {
        "id": "wkKRpLUn8Gf9"
      }
    },
    {
      "cell_type": "code",
      "source": [
        "economic_data = pd.read_csv('dados_enem_2021_BA_questoes_socieconomicas.csv')"
      ],
      "metadata": {
        "id": "epbVFqnh8IMF"
      },
      "execution_count": null,
      "outputs": []
    },
    {
      "cell_type": "code",
      "source": [
        "economic_data.head()"
      ],
      "metadata": {
        "id": "NXJlzAWN8Kfx"
      },
      "execution_count": null,
      "outputs": []
    },
    {
      "cell_type": "code",
      "source": [
        "df.shape"
      ],
      "metadata": {
        "id": "soyIpdpL8Lxd"
      },
      "execution_count": null,
      "outputs": []
    },
    {
      "cell_type": "code",
      "source": [
        "df_merged = df.merge(economic_data, on = 'NU_INSCRICAO', how = 'inner')"
      ],
      "metadata": {
        "id": "pCyXe0zV8MSJ"
      },
      "execution_count": null,
      "outputs": []
    },
    {
      "cell_type": "code",
      "source": [
        "df_merged.shape"
      ],
      "metadata": {
        "id": "thhfdtwM8NOh"
      },
      "execution_count": null,
      "outputs": []
    },
    {
      "cell_type": "code",
      "source": [
        "df_merged.head()"
      ],
      "metadata": {
        "id": "kgMwV9Cl8OMd"
      },
      "execution_count": null,
      "outputs": []
    },
    {
      "cell_type": "markdown",
      "source": [
        "# Principais funções e comandos do Pandas"
      ],
      "metadata": {
        "id": "fqdTjJ2l8SfC"
      }
    },
    {
      "cell_type": "markdown",
      "source": [
        "**Insepação de dados**\n",
        "\n",
        "```python\n",
        "df.head()\n",
        "\n",
        "df.tail()\n",
        "\n",
        "df.shape\n",
        "\n",
        "df.info()\n",
        "\n",
        "df.dtypes\n",
        "```\n",
        "\n",
        "**Manipulação de dados**\n",
        "```python\n",
        "\n",
        "# seleção de colunas\n",
        "\n",
        "df.iloc[:, :]\n",
        "\n",
        "df.loc[:, :]\n",
        "\n",
        "# criação de colunas\n",
        "df['new_column_1'] = (df['old_column'] / df['A'] * 100)\n",
        "df_new = df.assign(new_column_2 = df['old_column'] * 5)\n",
        "\n",
        "# remoção de colunas\n",
        "df.drop(columns = ['column_1', 'column_2'])\n",
        "\n",
        "# filtro\n",
        "\n",
        "df.query('(column_A == 1) & (column_B != \"value\")')\n",
        "\n",
        "df[(df.column_A == 1) | (df.column_B != 'value')]\n",
        "\n",
        "df.loc[(df.column_A <= 2) & (df.column_C > 10)]\n",
        "\n",
        "\n",
        "\n",
        "```\n",
        "\n",
        "\n",
        "\n",
        "**Leitura de dados**\n",
        "\n",
        "```python\n",
        "\n",
        "pd.read_csv(filepath, sep, header, index_col, skiprows, na_values)\n",
        "\n",
        "```\n",
        "\n",
        "**Sumarização de dados**\n",
        "```python\n",
        "df.describe(include = 'all')\n",
        "```\n",
        "\n",
        "**Visualização de dados**\n",
        "\n",
        "```python\n",
        "\n",
        "# bar plot\n",
        "df.column.value_counts().plot(kind = 'bar')\n",
        "\n",
        "# pie plot\n",
        "df.column.value_counts().plot(kind = 'pie')\n",
        "\n",
        "# box plot\n",
        "df.column.plot(kind = 'box')\n",
        "```\n",
        "\n",
        "\n",
        "\n",
        "\n"
      ],
      "metadata": {
        "id": "2ADmyaB88aTV"
      }
    }
  ]
}